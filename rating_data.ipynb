{
 "cells": [
  {
   "cell_type": "code",
   "execution_count": 1,
   "metadata": {},
   "outputs": [],
   "source": [
    "import json\n",
    "import numpy as np\n",
    "import pandas as pd\n",
    "\n",
    "import csv\n",
    "import ujson"
   ]
  },
  {
   "cell_type": "code",
   "execution_count": 3,
   "metadata": {},
   "outputs": [
    {
     "data": {
      "text/html": [
       "<div>\n",
       "<style scoped>\n",
       "    .dataframe tbody tr th:only-of-type {\n",
       "        vertical-align: middle;\n",
       "    }\n",
       "\n",
       "    .dataframe tbody tr th {\n",
       "        vertical-align: top;\n",
       "    }\n",
       "\n",
       "    .dataframe thead th {\n",
       "        text-align: right;\n",
       "    }\n",
       "</style>\n",
       "<table border=\"1\" class=\"dataframe\">\n",
       "  <thead>\n",
       "    <tr style=\"text-align: right;\">\n",
       "      <th></th>\n",
       "      <th>productId</th>\n",
       "      <th>userId</th>\n",
       "      <th>Rating</th>\n",
       "      <th>timestamp</th>\n",
       "    </tr>\n",
       "  </thead>\n",
       "  <tbody>\n",
       "    <tr>\n",
       "      <th>0</th>\n",
       "      <td>0060009810</td>\n",
       "      <td>A1N070NS9CJQ2I</td>\n",
       "      <td>5.0</td>\n",
       "      <td>1026864000</td>\n",
       "    </tr>\n",
       "    <tr>\n",
       "      <th>1</th>\n",
       "      <td>0060009810</td>\n",
       "      <td>A3P0KRKOBQK1KN</td>\n",
       "      <td>5.0</td>\n",
       "      <td>1025913600</td>\n",
       "    </tr>\n",
       "    <tr>\n",
       "      <th>2</th>\n",
       "      <td>0060009810</td>\n",
       "      <td>A192HO2ICJ75VU</td>\n",
       "      <td>5.0</td>\n",
       "      <td>1025654400</td>\n",
       "    </tr>\n",
       "    <tr>\n",
       "      <th>3</th>\n",
       "      <td>0060009810</td>\n",
       "      <td>A2T278FKFL3BLT</td>\n",
       "      <td>4.0</td>\n",
       "      <td>1025395200</td>\n",
       "    </tr>\n",
       "    <tr>\n",
       "      <th>4</th>\n",
       "      <td>0060009810</td>\n",
       "      <td>A2ZUXVTW8RXBXW</td>\n",
       "      <td>5.0</td>\n",
       "      <td>1025222400</td>\n",
       "    </tr>\n",
       "    <tr>\n",
       "      <th>...</th>\n",
       "      <td>...</td>\n",
       "      <td>...</td>\n",
       "      <td>...</td>\n",
       "      <td>...</td>\n",
       "    </tr>\n",
       "    <tr>\n",
       "      <th>20994348</th>\n",
       "      <td>B01HJF704M</td>\n",
       "      <td>A1RH0C7YHWZQER</td>\n",
       "      <td>1.0</td>\n",
       "      <td>1493424000</td>\n",
       "    </tr>\n",
       "    <tr>\n",
       "      <th>20994349</th>\n",
       "      <td>B01HJF704M</td>\n",
       "      <td>A2955VBJEJZ4S</td>\n",
       "      <td>5.0</td>\n",
       "      <td>1492387200</td>\n",
       "    </tr>\n",
       "    <tr>\n",
       "      <th>20994350</th>\n",
       "      <td>B01HJF704M</td>\n",
       "      <td>A1FGCIRPRNZWD5</td>\n",
       "      <td>5.0</td>\n",
       "      <td>1490918400</td>\n",
       "    </tr>\n",
       "    <tr>\n",
       "      <th>20994351</th>\n",
       "      <td>B01HJF704M</td>\n",
       "      <td>AOEG7L8HI8DXJ</td>\n",
       "      <td>5.0</td>\n",
       "      <td>1487203200</td>\n",
       "    </tr>\n",
       "    <tr>\n",
       "      <th>20994352</th>\n",
       "      <td>B01HJF704M</td>\n",
       "      <td>A1BXCUK9AT7KWG</td>\n",
       "      <td>5.0</td>\n",
       "      <td>1486771200</td>\n",
       "    </tr>\n",
       "  </tbody>\n",
       "</table>\n",
       "<p>20994353 rows × 4 columns</p>\n",
       "</div>"
      ],
      "text/plain": [
       "           productId          userId  Rating   timestamp\n",
       "0         0060009810  A1N070NS9CJQ2I     5.0  1026864000\n",
       "1         0060009810  A3P0KRKOBQK1KN     5.0  1025913600\n",
       "2         0060009810  A192HO2ICJ75VU     5.0  1025654400\n",
       "3         0060009810  A2T278FKFL3BLT     4.0  1025395200\n",
       "4         0060009810  A2ZUXVTW8RXBXW     5.0  1025222400\n",
       "...              ...             ...     ...         ...\n",
       "20994348  B01HJF704M  A1RH0C7YHWZQER     1.0  1493424000\n",
       "20994349  B01HJF704M   A2955VBJEJZ4S     5.0  1492387200\n",
       "20994350  B01HJF704M  A1FGCIRPRNZWD5     5.0  1490918400\n",
       "20994351  B01HJF704M   AOEG7L8HI8DXJ     5.0  1487203200\n",
       "20994352  B01HJF704M  A1BXCUK9AT7KWG     5.0  1486771200\n",
       "\n",
       "[20994353 rows x 4 columns]"
      ]
     },
     "execution_count": 3,
     "metadata": {},
     "output_type": "execute_result"
    }
   ],
   "source": [
    "# csv 파일 읽기\n",
    "rating_data = pd.read_csv(\"D:/amazon sports/ratingdata.csv\", names=['productId', 'userId','Rating','timestamp']) \n",
    "rating_data"
   ]
  },
  {
   "cell_type": "code",
   "execution_count": 4,
   "metadata": {},
   "outputs": [
    {
     "name": "stdout",
     "output_type": "stream",
     "text": [
      "productId - 0.0%\n",
      "userId - 0.0%\n",
      "Rating - 0.0%\n",
      "timestamp - 0.0%\n"
     ]
    }
   ],
   "source": [
    "# 행 별로 결측값 퍼센트 측정\n",
    "\n",
    "for col in rating_data.columns:\n",
    "    pct_missing = rating_data[col].isnull().mean()\n",
    "    print(f'{col} - {pct_missing :.1%}')"
   ]
  },
  {
   "cell_type": "code",
   "execution_count": 6,
   "metadata": {},
   "outputs": [
    {
     "data": {
      "text/plain": [
       "756489"
      ]
     },
     "execution_count": 6,
     "metadata": {},
     "output_type": "execute_result"
    }
   ],
   "source": [
    "product_list = list(rating_data.productId.unique())\n",
    "product_list = sorted(product_list)\n",
    "\n",
    "len(product_list)"
   ]
  },
  {
   "cell_type": "code",
   "execution_count": 7,
   "metadata": {},
   "outputs": [
    {
     "data": {
      "text/plain": [
       "756489"
      ]
     },
     "execution_count": 7,
     "metadata": {},
     "output_type": "execute_result"
    }
   ],
   "source": [
    "user_list = list(rating_data.userId.unique())\n",
    "user_list = sorted(product_list)\n",
    "\n",
    "len(user_list)"
   ]
  },
  {
   "cell_type": "code",
   "execution_count": 8,
   "metadata": {},
   "outputs": [
    {
     "data": {
      "text/html": [
       "<div>\n",
       "<style scoped>\n",
       "    .dataframe tbody tr th:only-of-type {\n",
       "        vertical-align: middle;\n",
       "    }\n",
       "\n",
       "    .dataframe tbody tr th {\n",
       "        vertical-align: top;\n",
       "    }\n",
       "\n",
       "    .dataframe thead th {\n",
       "        text-align: right;\n",
       "    }\n",
       "</style>\n",
       "<table border=\"1\" class=\"dataframe\">\n",
       "  <thead>\n",
       "    <tr style=\"text-align: right;\">\n",
       "      <th></th>\n",
       "      <th>count</th>\n",
       "      <th>mean</th>\n",
       "      <th>std</th>\n",
       "      <th>min</th>\n",
       "      <th>25%</th>\n",
       "      <th>50%</th>\n",
       "      <th>75%</th>\n",
       "      <th>max</th>\n",
       "    </tr>\n",
       "  </thead>\n",
       "  <tbody>\n",
       "    <tr>\n",
       "      <th>Rating</th>\n",
       "      <td>20994353.0</td>\n",
       "      <td>4.073685</td>\n",
       "      <td>1.385792</td>\n",
       "      <td>1.0</td>\n",
       "      <td>4.0</td>\n",
       "      <td>5.0</td>\n",
       "      <td>5.0</td>\n",
       "      <td>5.0</td>\n",
       "    </tr>\n",
       "  </tbody>\n",
       "</table>\n",
       "</div>"
      ],
      "text/plain": [
       "             count      mean       std  min  25%  50%  75%  max\n",
       "Rating  20994353.0  4.073685  1.385792  1.0  4.0  5.0  5.0  5.0"
      ]
     },
     "execution_count": 8,
     "metadata": {},
     "output_type": "execute_result"
    }
   ],
   "source": [
    "# Summary statistics of 'rating' variable\n",
    "rating_data[['Rating']].describe().transpose()"
   ]
  },
  {
   "cell_type": "code",
   "execution_count": null,
   "metadata": {},
   "outputs": [],
   "source": []
  }
 ],
 "metadata": {
  "kernelspec": {
   "display_name": "Python 3.7.11 ('test')",
   "language": "python",
   "name": "python3"
  },
  "language_info": {
   "codemirror_mode": {
    "name": "ipython",
    "version": 3
   },
   "file_extension": ".py",
   "mimetype": "text/x-python",
   "name": "python",
   "nbconvert_exporter": "python",
   "pygments_lexer": "ipython3",
   "version": "3.7.11"
  },
  "orig_nbformat": 4,
  "vscode": {
   "interpreter": {
    "hash": "39d61b77e830ed8d98684fb8ffddb0a201181e6679241f14e7ac939d312d2885"
   }
  }
 },
 "nbformat": 4,
 "nbformat_minor": 2
}
